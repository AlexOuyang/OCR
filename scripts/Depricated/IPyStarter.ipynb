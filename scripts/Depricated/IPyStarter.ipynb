{
 "cells": [
  {
   "cell_type": "code",
   "execution_count": null,
   "metadata": {
    "collapsed": true
   },
   "outputs": [],
   "source": [
    "###### PYTHON STARTER CODE ######\n",
    "# RUN YOUR DATA ON ONE OF THE TWO EXAMPLE PIPELINES BELOW, DEPENDING ON WHETHER\n",
    "# YOU WANT TO DO SUPERVISED (regression) OR UNSUPERVISED LEARNING (kmeans)\n",
    "#\n",
    "# things you need to do (ONLY ONE PER TEAM):\n",
    "#  - download the following packages if you do not have them: numpy, scipy, matplotlib\n",
    "#  - import your data into python and name the variables appropriately\n",
    "#  - run one of the two processes, the easiest thing to do is to run this script in\n",
    "#       iPython notebook (this is an useful thing to learn). but if you want, you could\n",
    "#       copy and paste the relevant code snippet into your own python script\n",
    "#  - produce the plots and change the x/y axis labels and title to reflect your data\n",
    "#  - email me your plot and a short description of what the data you plotted represent\n",
    "#       i.e. X is height of all elephants I measured, and Y is their age, etc. or\n",
    "#       X[0] is the height of all elephants I measured, and X[1] is their weight\n",
    "#\n",
    "# the computations perform themselves, the point of this is to check in and see that\n",
    "# you've been able to enter your data at the very least"
   ]
  },
  {
   "cell_type": "code",
   "execution_count": null,
   "metadata": {
    "collapsed": false
   },
   "outputs": [],
   "source": [
    "### LINEAR REGRESSION\\n\",\n",
    "\n",
    "#import packages\n",
    "%matplotlib inline\n",
    "import numpy as np\n",
    "import scipy as sp\n",
    "import matplotlib.pyplot as pp\n",
    "\n",
    "# ENTER YOUR OWN DATA HERE:\n",
    "# if you're doing supervised learning, X should be the values of a\n",
    "# single dimension (feature) for all your data points, and Y should\n",
    "# be your prediction (output) value\n",
    "\n",
    "X = [float(l.strip().split()[0]) for l in open(\"scaledfaithful.txt\")]\n",
    "Y = [float(l.strip().split()[1]) for l in open(\"scaledfaithful.txt\")]\n",
    "#__________________________\n",
    "\n",
    "# only want the first 100 examples\n",
    "X = X[:100]\n",
    "Y = Y[:100]\n",
    "\n",
    "# we append 1's to the data vector because linear regression requires an offset\n",
    "featX = [[1.,i] for i in X]\n",
    "\n",
    "# get line of best fit (offset & slope) by running least squares regression\n",
    "theta = np.linalg.lstsq(featX, Y)[0]\n",
    "\n",
    "# plotting\n",
    "pp.plot(X,Y,'o')\n",
    "pp.plot([min(X), max(X)], np.array([min(X), max(X)])*theta[1]+theta[0])\n",
    "\n",
    "#### CHANGE THESE LABELS TO MATCH YOUR DATA\n",
    "pp.title('Linear Regression')\n",
    "pp.xlabel('Feature 1')\n",
    "pp.ylabel('Predictor')\n",
    "pp.show()"
   ]
  },
  {
   "cell_type": "code",
   "execution_count": null,
   "metadata": {
    "collapsed": false
   },
   "outputs": [],
   "source": [
    "##### K-MEANS\n",
    "\n",
    "#import packages\n",
    "%matplotlib inline\n",
    "import numpy as np\n",
    "import scipy.cluster.vq as CL\n",
    "import matplotlib.pyplot as pp\n",
    "\n",
    "# ENTER YOUR OWN DATA HERE:\n",
    "# if you're doing unsupervised learning, X should be the values of\n",
    "# 2 dimensions (feature) for all your data points\n",
    "\n",
    "X = [[float(l.strip().split()[0]),float(l.strip().split()[1])] for l in open(\"scaledfaithful.txt\")]\n",
    "#________________________________\n",
    "\n",
    "# take first 100 points and cluster into numK centroids\n",
    "# you can change numK to see how it changes the results\n",
    "X = X[:100]\n",
    "numK = 2\n",
    "centroids,sq = CL.kmeans(np.array(X), numK)\n",
    "\n",
    "#compute distance of each sample to the centroids\n",
    "dist = [(np.sum((np.array(X) - np.array([centroids[i]]))**2,1)) for i in range(numK)]\n",
    "\n",
    "#assign sample to closest cluster\n",
    "class_assigned = [(np.where(np.transpose(dist)[i]==min(np.transpose(dist)[i])))[0][0] for i in range(100)]\n",
    "clustered = [[X[i] for i, clu in enumerate(class_assigned) if clu == k*1.] for k in range(numK)]\n",
    "\n",
    "# plotting each class\n",
    "for k in range(numK):\n",
    "    pp.plot(np.transpose(clustered[k])[0], np.transpose(clustered[k])[1],'o')\n",
    "\n",
    "#### CHANGE THESE LABELS TO MATCH YOUR DATA\n",
    "pp.title('K Means')\n",
    "pp.xlabel('Feature 1')\n",
    "pp.ylabel('Feature 2')\n",
    "pp.show()"
   ]
  },
  {
   "cell_type": "code",
   "execution_count": null,
   "metadata": {
    "collapsed": true
   },
   "outputs": [],
   "source": []
  }
 ],
 "metadata": {
  "kernelspec": {
   "display_name": "Python 2",
   "language": "python",
   "name": "python2"
  },
  "language_info": {
   "codemirror_mode": {
    "name": "ipython",
    "version": 2
   },
   "file_extension": ".py",
   "mimetype": "text/x-python",
   "name": "python",
   "nbconvert_exporter": "python",
   "pygments_lexer": "ipython2",
   "version": "2.7.10"
  }
 },
 "nbformat": 4,
 "nbformat_minor": 0
}
